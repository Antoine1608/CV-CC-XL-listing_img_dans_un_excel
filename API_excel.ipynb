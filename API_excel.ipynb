{
 "cells": [
  {
   "cell_type": "code",
   "execution_count": 128,
   "id": "20f06bae",
   "metadata": {},
   "outputs": [],
   "source": [
    "import pyforest\n",
    "import shutil\n",
    "import openpyxl\n",
    "import PIL\n",
    "from datetime import datetime, timedelta"
   ]
  },
  {
   "cell_type": "code",
   "execution_count": 129,
   "id": "9c1d319c",
   "metadata": {},
   "outputs": [],
   "source": [
    "from PIL import Image as PILImage\n",
    "\n",
    "class Imagex(object):\n",
    "    def __init__(self, image_path):\n",
    "        try:\n",
    "            # On initie un objet qu'on appelle self.image\n",
    "            self.image = PILImage.open(image_path)\n",
    "        except Exception as e:\n",
    "            raise ValueError(f\"Error opening the image: {str(e)}\")\n",
    "\n",
    "    def xshow(self):\n",
    "        self.image.show()   \n",
    "\n",
    "    def xthumb(self):\n",
    "        # Create a thumbnail of the image with a maximum size of (128, 128).\n",
    "        # You can adjust the size as needed.\n",
    "        max_thumbnail_size = (128, 128)\n",
    "        thumb = self.image.copy()\n",
    "        thumb.thumbnail(max_thumbnail_size)\n",
    "        return thumb\n",
    "    \n",
    "    def xthumbsave(self):\n",
    "        max_thumbnail_size = (128, 128)\n",
    "        thumb = self.image.copy()\n",
    "        thumb.thumbnail(max_thumbnail_size)\n",
    "        thumb.save('thumb.png', format=\"PNG\")\n",
    "    \n",
    "    def xinfo(self):        \n",
    "        image_info = {\n",
    "        'Image_Path': image_path,\n",
    "        'Image_Size': os.path.getsize(image_path),  # Taille de l'image en octets.\n",
    "        'Image_Width': self.image.width,  # Largeur de l'image en pixels.\n",
    "        'Image_Height': self.image.height,  # Hauteur de l'image en pixels.\n",
    "        'Image_Mode': self.image.mode,  # Mode de couleur de l'image (par exemple : \"RGB\", \"L\", etc.).\n",
    "        'Image_Format': self.image.format,  # Format de l'image (par exemple : \"JPEG\", \"PNG\", etc.).\n",
    "        'Date_Modified': os.path.getmtime(image_path),  # Date de modification du fichier de l'image.\n",
    "        }               \n",
    "        return image_info"
   ]
  },
  {
   "cell_type": "code",
   "execution_count": 130,
   "id": "f089cda8",
   "metadata": {},
   "outputs": [],
   "source": [
    "# Instancie une image img de classe Imagex\n",
    "image_path = r\"C:\\Users\\John\\Desktop\\Formation\\3_API_excel\\images\\CameraZOOM-20200921140436787.jpg\"\n",
    "img = Imagex(image_path)"
   ]
  },
  {
   "cell_type": "code",
   "execution_count": 131,
   "id": "45b04c3a",
   "metadata": {},
   "outputs": [],
   "source": [
    "# Crée et sauvegarde un thumbnail de img\n",
    "img.xthumbsave()"
   ]
  },
  {
   "cell_type": "code",
   "execution_count": 132,
   "id": "32ac57ea",
   "metadata": {},
   "outputs": [
    {
     "data": {
      "application/javascript": [
       "\n",
       "        if (window._pyforest_update_imports_cell) { window._pyforest_update_imports_cell('import pandas as pd\\nimport os'); }\n",
       "    "
      ],
      "text/plain": [
       "<IPython.core.display.Javascript object>"
      ]
     },
     "metadata": {},
     "output_type": "display_data"
    },
    {
     "data": {
      "application/javascript": [
       "\n",
       "        if (window._pyforest_update_imports_cell) { window._pyforest_update_imports_cell('import pandas as pd\\nimport os'); }\n",
       "    "
      ],
      "text/plain": [
       "<IPython.core.display.Javascript object>"
      ]
     },
     "metadata": {},
     "output_type": "display_data"
    },
    {
     "data": {
      "application/javascript": [
       "\n",
       "        if (window._pyforest_update_imports_cell) { window._pyforest_update_imports_cell('import pandas as pd\\nimport os'); }\n",
       "    "
      ],
      "text/plain": [
       "<IPython.core.display.Javascript object>"
      ]
     },
     "metadata": {},
     "output_type": "display_data"
    },
    {
     "data": {
      "application/javascript": [
       "\n",
       "        if (window._pyforest_update_imports_cell) { window._pyforest_update_imports_cell('import pandas as pd\\nimport os'); }\n",
       "    "
      ],
      "text/plain": [
       "<IPython.core.display.Javascript object>"
      ]
     },
     "metadata": {},
     "output_type": "display_data"
    }
   ],
   "source": [
    "# création du doc synthese.xlsx avec les infos de l'image\n",
    "line = pd.DataFrame(img.xinfo(), index=[0])\n",
    "df = pd.concat([df, line], ignore_index=True)\n",
    "df.to_excel(\"synthese.xlsx\", index=False)"
   ]
  },
  {
   "cell_type": "code",
   "execution_count": 133,
   "id": "a7881e49",
   "metadata": {},
   "outputs": [
    {
     "name": "stdout",
     "output_type": "stream",
     "text": [
      "Fichier Excel existant ouvert : synthese.xlsx\n"
     ]
    }
   ],
   "source": [
    "# intanciation openpyxl du doc excel nommé synthese\n",
    "from openpyxl.drawing.image import Image\n",
    "\n",
    "try:\n",
    "    # Essayez d'ouvrir le fichier Excel s'il existe déjà.\n",
    "    file_path = \"synthese.xlsx\"\n",
    "    workbook = openpyxl.load_workbook(file_path)\n",
    "    print(f\"Fichier Excel existant ouvert : {file_path}\")\n",
    "except FileNotFoundError:\n",
    "    print(\"fichier non trouvé\")\n",
    "\n",
    "worksheet = workbook.active"
   ]
  },
  {
   "cell_type": "code",
   "execution_count": 134,
   "id": "4bafc6e8",
   "metadata": {},
   "outputs": [],
   "source": [
    "# Resize cells ligne 2\n",
    "worksheet.row_dimensions[2].height = 75\n",
    "\n",
    "# Collage du thumbnail sur la dernière cellule de la ligne 2\n",
    "try :\n",
    "    worksheet.add_image(Image('thumb.png'), anchor='H2')#il faut que Image soit un objet openpyxl et non pas PIL\n",
    "except :\n",
    "    print('impossible de coller l\\'image')\n",
    "\n",
    "# Sauvegarde du document xlsx\n",
    "workbook.save('synthese.xlsx')\n",
    "workbook.close()"
   ]
  }
 ],
 "metadata": {
  "kernelspec": {
   "display_name": "Python 3 (ipykernel)",
   "language": "python",
   "name": "python3"
  },
  "language_info": {
   "codemirror_mode": {
    "name": "ipython",
    "version": 3
   },
   "file_extension": ".py",
   "mimetype": "text/x-python",
   "name": "python",
   "nbconvert_exporter": "python",
   "pygments_lexer": "ipython3",
   "version": "3.9.13"
  }
 },
 "nbformat": 4,
 "nbformat_minor": 5
}
